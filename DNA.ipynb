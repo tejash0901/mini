{
  "cells": [
    {
      "cell_type": "markdown",
      "metadata": {
        "id": "view-in-github",
        "colab_type": "text"
      },
      "source": [
        "<a href=\"https://colab.research.google.com/github/tejash0901/mini/blob/main/DNA.ipynb\" target=\"_parent\"><img src=\"https://colab.research.google.com/assets/colab-badge.svg\" alt=\"Open In Colab\"/></a>"
      ]
    },
    {
      "cell_type": "code",
      "execution_count": 2,
      "metadata": {
        "colab": {
          "base_uri": "https://localhost:8080/"
        },
        "id": "omFdYInvfhCQ",
        "outputId": "e7e59296-e34f-4904-a82b-b32d0baf1019"
      },
      "outputs": [
        {
          "output_type": "stream",
          "name": "stdout",
          "text": [
            "Looking in indexes: https://pypi.org/simple, https://us-python.pkg.dev/colab-wheels/public/simple/\n",
            "Collecting Bio\n",
            "  Downloading bio-1.5.9-py3-none-any.whl (276 kB)\n",
            "\u001b[2K     \u001b[90m━━━━━━━━━━━━━━━━━━━━━━━━━━━━━━━━━━━━━━━\u001b[0m \u001b[32m276.4/276.4 kB\u001b[0m \u001b[31m6.1 MB/s\u001b[0m eta \u001b[36m0:00:00\u001b[0m\n",
            "\u001b[?25hCollecting biopython>=1.80 (from Bio)\n",
            "  Downloading biopython-1.81-cp310-cp310-manylinux_2_17_x86_64.manylinux2014_x86_64.whl (3.1 MB)\n",
            "\u001b[2K     \u001b[90m━━━━━━━━━━━━━━━━━━━━━━━━━━━━━━━━━━━━━━━━\u001b[0m \u001b[32m3.1/3.1 MB\u001b[0m \u001b[31m51.3 MB/s\u001b[0m eta \u001b[36m0:00:00\u001b[0m\n",
            "\u001b[?25hRequirement already satisfied: requests in /usr/local/lib/python3.10/dist-packages (from Bio) (2.27.1)\n",
            "Requirement already satisfied: tqdm in /usr/local/lib/python3.10/dist-packages (from Bio) (4.65.0)\n",
            "Collecting mygene (from Bio)\n",
            "  Downloading mygene-3.2.2-py2.py3-none-any.whl (5.4 kB)\n",
            "Requirement already satisfied: pandas in /usr/local/lib/python3.10/dist-packages (from Bio) (1.5.3)\n",
            "Requirement already satisfied: pooch in /usr/local/lib/python3.10/dist-packages (from Bio) (1.6.0)\n",
            "Collecting gprofiler-official (from Bio)\n",
            "  Downloading gprofiler_official-1.0.0-py3-none-any.whl (9.3 kB)\n",
            "Requirement already satisfied: numpy in /usr/local/lib/python3.10/dist-packages (from biopython>=1.80->Bio) (1.22.4)\n",
            "Collecting biothings-client>=0.2.6 (from mygene->Bio)\n",
            "  Downloading biothings_client-0.3.0-py2.py3-none-any.whl (29 kB)\n",
            "Requirement already satisfied: python-dateutil>=2.8.1 in /usr/local/lib/python3.10/dist-packages (from pandas->Bio) (2.8.2)\n",
            "Requirement already satisfied: pytz>=2020.1 in /usr/local/lib/python3.10/dist-packages (from pandas->Bio) (2022.7.1)\n",
            "Requirement already satisfied: appdirs>=1.3.0 in /usr/local/lib/python3.10/dist-packages (from pooch->Bio) (1.4.4)\n",
            "Requirement already satisfied: packaging>=20.0 in /usr/local/lib/python3.10/dist-packages (from pooch->Bio) (23.1)\n",
            "Requirement already satisfied: urllib3<1.27,>=1.21.1 in /usr/local/lib/python3.10/dist-packages (from requests->Bio) (1.26.15)\n",
            "Requirement already satisfied: certifi>=2017.4.17 in /usr/local/lib/python3.10/dist-packages (from requests->Bio) (2022.12.7)\n",
            "Requirement already satisfied: charset-normalizer~=2.0.0 in /usr/local/lib/python3.10/dist-packages (from requests->Bio) (2.0.12)\n",
            "Requirement already satisfied: idna<4,>=2.5 in /usr/local/lib/python3.10/dist-packages (from requests->Bio) (3.4)\n",
            "Requirement already satisfied: six>=1.5 in /usr/local/lib/python3.10/dist-packages (from python-dateutil>=2.8.1->pandas->Bio) (1.16.0)\n",
            "Installing collected packages: biopython, gprofiler-official, biothings-client, mygene, Bio\n",
            "Successfully installed Bio-1.5.9 biopython-1.81 biothings-client-0.3.0 gprofiler-official-1.0.0 mygene-3.2.2\n"
          ]
        }
      ],
      "source": [
        "!pip install Bio"
      ]
    },
    {
      "cell_type": "code",
      "execution_count": 3,
      "metadata": {
        "id": "1dY3ZBsDY-9H"
      },
      "outputs": [],
      "source": [
        "from Bio import SeqIO\n",
        "import numpy as np\n",
        "from imblearn.over_sampling import SMOTEN\n",
        "from sklearn.model_selection import train_test_split"
      ]
    },
    {
      "cell_type": "code",
      "source": [
        "classesDict = {0: \"MERS\", 1: \"SARS\"}\n",
        "attributes = np.array([])\n",
        "classes = np.array([])"
      ],
      "metadata": {
        "id": "x9GocI9QHYPm"
      },
      "execution_count": 7,
      "outputs": []
    },
    {
      "cell_type": "code",
      "execution_count": 8,
      "metadata": {
        "colab": {
          "base_uri": "https://localhost:8080/"
        },
        "id": "nnix2W5QrOOd",
        "outputId": "ba8142d5-4f0c-4b28-dca6-2ae48e9c19fe"
      },
      "outputs": [
        {
          "output_type": "stream",
          "name": "stdout",
          "text": [
            "class  MERS  size:  1453\n",
            "class  SARS  size:  674\n",
            "total attributes size before oversampling:  2127\n",
            "total classes size before oversampling:  2127\n"
          ]
        }
      ],
      "source": [
        "for key in classesDict:\n",
        "    fasta_sequences = SeqIO.parse(open(\"/content/drive/MyDrive/data/sequences\"+classesDict[key]+\".fasta\"), 'fasta')\n",
        "    attrsSize = attributes.shape[0]           \n",
        "    attributes = np.concatenate ((attributes, np.array([str(fasta.seq) for fasta in fasta_sequences])))\n",
        "    classSize = attributes.shape[0] - attrsSize\n",
        "    currentClass = np.empty(classSize)\n",
        "    currentClass.fill(key)\n",
        "    classes = np.concatenate ((classes, currentClass))\n",
        "    print(\"class \", classesDict[key], \" size: \", currentClass.shape[0])\n",
        "        \n",
        "print(\"total attributes size before oversampling: \", attributes.shape[0])\n",
        "print(\"total classes size before oversampling: \", classes.shape[0])\n"
      ]
    },
    {
      "cell_type": "code",
      "execution_count": null,
      "metadata": {
        "colab": {
          "base_uri": "https://localhost:8080/"
        },
        "id": "Hmfd6NEvrSf8",
        "outputId": "36703885-0786-4a8b-b85b-79f83fa9a702"
      },
      "outputs": [
        {
          "name": "stdout",
          "output_type": "stream",
          "text": [
            "total attributes size before oversampling: 2127\n",
            "total classes size before oversampling: 2127\n"
          ]
        }
      ],
      "source": [
        "attributes = np.array(attributes)\n",
        "classes = np.array(classes)\n",
        "\n",
        "print(\"total attributes size before oversampling:\", attributes.shape[0])\n",
        "print(\"total classes size before oversampling:\", classes.shape[0])"
      ]
    },
    {
      "cell_type": "code",
      "execution_count": 10,
      "metadata": {
        "colab": {
          "base_uri": "https://localhost:8080/"
        },
        "id": "8RnzAvc0sVZM",
        "outputId": "afb33756-699e-472b-c3fd-f7f8095e005e"
      },
      "outputs": [
        {
          "output_type": "stream",
          "name": "stderr",
          "text": [
            "/usr/local/lib/python3.10/dist-packages/imblearn/utils/_validation.py:313: UserWarning: After over-sampling, the number of samples (1500) in class 1 will be larger than the number of samples in the majority class (class #0.0 -> 1453)\n",
            "  warnings.warn(\n"
          ]
        }
      ],
      "source": [
        "attributes = attributes.reshape(-1,1)\n",
        "oversampling_classes = {1 : 1500}\n",
        "sampler = SMOTEN(sampling_strategy=oversampling_classes, random_state=0)\n",
        "X_res, y_res = sampler.fit_resample(attributes, classes)\n",
        "        \n",
        "maxSequence = 3000"
      ]
    },
    {
      "cell_type": "code",
      "execution_count": null,
      "metadata": {
        "colab": {
          "base_uri": "https://localhost:8080/"
        },
        "id": "_18u7sU7l-Ua",
        "outputId": "ab53fbfd-eeb9-4c00-95b4-4527f3ef60d8"
      },
      "outputs": [
        {
          "name": "stdout",
          "output_type": "stream",
          "text": [
            "x_train size: 10117\n",
            "y_train size: 10117\n",
            "x_test size: 4336\n",
            "y_test size: 4336\n"
          ]
        }
      ],
      "source": [
        "# import numpy as np\n",
        "\n",
        "# # Define the mapping between bases and their positions\n",
        "# base_mapping = {'a': 0, 'c': 1, 'g': 2, 't': 3 , 'n' : 4}\n",
        "\n",
        "# # Initialize an empty array to store the one-hot encoded sequences\n",
        "# X_res_encoded = np.zeros((len(X_res), len(X_res[0]), 5), dtype=np.uint8)\n",
        "\n",
        "# # Iterate over each sequence and encode it\n",
        "# for i, sequence in enumerate(X_res):\n",
        "#     for j, base in enumerate(sequence):\n",
        "#         if base in base_mapping:\n",
        "#             base_index = base_mapping[base]\n",
        "#             X_res_encoded[i, j, base_index] = 1\n",
        "\n",
        "# # Split the encoded data\n",
        "# x_train, x_test, y_train, y_test = train_test_split(X_res_encoded, y_res, test_size=0.3, random_state=4, stratify=y_res)\n",
        "\n",
        "# # Print the sizes of the train and test sets\n",
        "# print(\"x_train size:\", x_train.shape[0])\n",
        "# print(\"y_train size:\", y_train.shape[0])\n",
        "# print(\"x_test size:\", x_test.shape[0])\n",
        "# print(\"y_test size:\", y_test.shape[0])\n"
      ]
    },
    {
      "cell_type": "code",
      "execution_count": 11,
      "metadata": {
        "colab": {
          "base_uri": "https://localhost:8080/"
        },
        "id": "-pUPdNZvFkxt",
        "outputId": "9c6e9fca-f400-431f-a383-86e0a4ff2a89"
      },
      "outputs": [
        {
          "output_type": "stream",
          "name": "stdout",
          "text": [
            "x_train size:  2067\n",
            "y_train size:  2067\n",
            "x_test size:  886\n",
            "y_test size:  886\n"
          ]
        }
      ],
      "source": [
        "X_resBinarized = np.empty((0, maxSequence), dtype=np.uint8)\n",
        "for sequence in X_res:\n",
        "    sequenceStr = sequence[0]\n",
        "    sequenceBinarizedStr = \"\"\n",
        "    index = 0\n",
        "    for char in sequenceStr:\n",
        "        if index < maxSequence:\n",
        "            if char == 'a':\n",
        "                sequenceBinarizedStr += \"1\"\n",
        "            elif char == 'c':\n",
        "                sequenceBinarizedStr += \"2\"\n",
        "            elif char == 'g':\n",
        "                sequenceBinarizedStr += \"3\"\n",
        "            elif char == 't':\n",
        "                sequenceBinarizedStr += \"4\"\n",
        "            else:\n",
        "                sequenceBinarizedStr += \"0\"\n",
        "        index += 1\n",
        "            \n",
        "    if len(sequenceStr) < maxSequence:\n",
        "        sequenceLength = len(sequenceStr)\n",
        "        while sequenceLength < maxSequence:\n",
        "            sequenceBinarizedStr += \"0\"\n",
        "            sequenceLength += 1\n",
        "        \n",
        "    sequenceBinarized = np.array(list(sequenceBinarizedStr), dtype=np.uint8)\n",
        "    X_resBinarized = np.append(X_resBinarized, [sequenceBinarized], axis=0)\n",
        "        \n",
        "    \n",
        "\n",
        "x_train, x_test, y_train, y_test = train_test_split(X_resBinarized, y_res, test_size=0.3, random_state=4, stratify=y_res)\n",
        "    \n",
        "print(\"x_train size: \", x_train.shape[0])\n",
        "print(\"y_train size: \", y_train.shape[0])\n",
        "print(\"x_test size: \", x_test.shape[0])\n",
        "print(\"y_test size: \", y_test.shape[0])"
      ]
    },
    {
      "cell_type": "markdown",
      "metadata": {
        "id": "_74uKZdlIwIJ"
      },
      "source": []
    },
    {
      "cell_type": "code",
      "execution_count": 12,
      "metadata": {
        "id": "j5x57cTNqw4N",
        "colab": {
          "base_uri": "https://localhost:8080/"
        },
        "outputId": "89d50c8d-16f1-4aff-8962-43c872ef05a5"
      },
      "outputs": [
        {
          "output_type": "execute_result",
          "data": {
            "text/plain": [
              "array([[4, 2, 4, ..., 0, 0, 0],\n",
              "       [4, 3, 2, ..., 0, 0, 0],\n",
              "       [1, 4, 3, ..., 1, 1, 3],\n",
              "       ...,\n",
              "       [2, 3, 4, ..., 0, 0, 0],\n",
              "       [3, 1, 4, ..., 1, 3, 4],\n",
              "       [1, 4, 3, ..., 1, 4, 2]], dtype=uint8)"
            ]
          },
          "metadata": {},
          "execution_count": 12
        }
      ],
      "source": [
        "\n",
        "x_train"
      ]
    },
    {
      "cell_type": "code",
      "execution_count": 13,
      "metadata": {
        "id": "kPNNWbQzq30e",
        "colab": {
          "base_uri": "https://localhost:8080/"
        },
        "outputId": "038f5f33-adb2-4ef6-a4bc-eab591fcb165"
      },
      "outputs": [
        {
          "output_type": "stream",
          "name": "stdout",
          "text": [
            "[[3 1 4 ... 1 3 4]\n",
            " [1 4 3 ... 1 1 3]\n",
            " [1 4 3 ... 1 4 2]\n",
            " ...\n",
            " [3 1 4 ... 1 3 4]\n",
            " [4 3 4 ... 0 0 0]\n",
            " [1 4 3 ... 1 4 2]]\n"
          ]
        }
      ],
      "source": [
        "print(x_test)"
      ]
    },
    {
      "cell_type": "code",
      "execution_count": 14,
      "metadata": {
        "id": "IPT08vNyGDwF"
      },
      "outputs": [],
      "source": [
        "import tensorflow as tf\n",
        "from tensorflow import keras\n",
        "import sklearn.metrics as metrics\n",
        "import numpy as np"
      ]
    },
    {
      "cell_type": "code",
      "execution_count": 15,
      "metadata": {
        "id": "A6dlILDyZNUh"
      },
      "outputs": [],
      "source": [
        "batch_size = 32\n",
        "num_classes = 5\n",
        "epochs = 3\n"
      ]
    },
    {
      "cell_type": "code",
      "execution_count": 16,
      "metadata": {
        "id": "ynr2qmH-j6Tj"
      },
      "outputs": [],
      "source": [
        "vocab_size = 5\n",
        "embedding_dim = 8\n",
        "maxlen= x_train[0].size"
      ]
    },
    {
      "cell_type": "code",
      "execution_count": 17,
      "metadata": {
        "id": "7Tb3S_-Xj-RY"
      },
      "outputs": [],
      "source": [
        "y_train = keras.utils.to_categorical(y_train, num_classes)\n",
        "y_test = keras.utils.to_categorical(y_test, num_classes)"
      ]
    },
    {
      "cell_type": "code",
      "execution_count": 18,
      "metadata": {
        "id": "6j1rTyiLkBDG"
      },
      "outputs": [],
      "source": [
        "y_test1 = np.argmax(y_test,axis=1)\n",
        "y_train1 = np.argmax(y_train,axis=1)"
      ]
    },
    {
      "cell_type": "code",
      "execution_count": 19,
      "metadata": {
        "id": "MMnAS5QsxVMn",
        "colab": {
          "base_uri": "https://localhost:8080/"
        },
        "outputId": "34d359f1-ed29-43c2-fbf2-1d52e7c7dce9"
      },
      "outputs": [
        {
          "output_type": "stream",
          "name": "stdout",
          "text": [
            "Model: \"sequential\"\n",
            "_________________________________________________________________\n",
            " Layer (type)                Output Shape              Param #   \n",
            "=================================================================\n",
            " embedding (Embedding)       (None, 3000, 8)           40        \n",
            "                                                                 \n",
            " conv1d (Conv1D)             (None, 2999, 128)         2176      \n",
            "                                                                 \n",
            " max_pooling1d (MaxPooling1D  (None, 1499, 128)        0         \n",
            " )                                                               \n",
            "                                                                 \n",
            " conv1d_1 (Conv1D)           (None, 1498, 64)          16448     \n",
            "                                                                 \n",
            " max_pooling1d_1 (MaxPooling  (None, 749, 64)          0         \n",
            " 1D)                                                             \n",
            "                                                                 \n",
            " lstm (LSTM)                 (None, 749, 64)           33024     \n",
            "                                                                 \n",
            " conv1d_2 (Conv1D)           (None, 748, 64)           8256      \n",
            "                                                                 \n",
            " max_pooling1d_2 (MaxPooling  (None, 374, 64)          0         \n",
            " 1D)                                                             \n",
            "                                                                 \n",
            " flatten (Flatten)           (None, 23936)             0         \n",
            "                                                                 \n",
            " dense (Dense)               (None, 128)               3063936   \n",
            "                                                                 \n",
            " dense_1 (Dense)             (None, 64)                8256      \n",
            "                                                                 \n",
            " dense_2 (Dense)             (None, 5)                 325       \n",
            "                                                                 \n",
            "=================================================================\n",
            "Total params: 3,132,461\n",
            "Trainable params: 3,132,461\n",
            "Non-trainable params: 0\n",
            "_________________________________________________________________\n"
          ]
        }
      ],
      "source": [
        "from keras.models import Sequential\n",
        "from keras.layers import Embedding, Conv1D, MaxPooling1D, Flatten, Dense, LSTM\n",
        "\n",
        "model = Sequential()\n",
        "model.add(Embedding(input_dim=vocab_size, output_dim=embedding_dim, input_length=maxlen))\n",
        "model.add(Conv1D(128, 2, activation='relu'))\n",
        "model.add(MaxPooling1D(pool_size=2))\n",
        "model.add(Conv1D(64, 2, activation='relu'))\n",
        "model.add(MaxPooling1D(pool_size=2))\n",
        "model.add(LSTM(64, return_sequences=True))  # Recurrent layer (LSTM)\n",
        "model.add(Conv1D(64, 2, activation='relu'))  # Additional Conv1D layer after LSTM\n",
        "model.add(MaxPooling1D(pool_size=2))\n",
        "model.add(Flatten())\n",
        "model.add(Dense(128, activation='relu'))\n",
        "model.add(Dense(64, activation='relu'))\n",
        "model.add(Dense(num_classes, activation='softmax'))\n",
        "\n",
        "model.summary()\n"
      ]
    },
    {
      "cell_type": "code",
      "execution_count": 21,
      "metadata": {
        "id": "qZn_x1trkHB1"
      },
      "outputs": [],
      "source": [
        "model.compile(loss='categorical_crossentropy',\n",
        "              optimizer='rmsprop',\n",
        "              metrics=['accuracy'])\n"
      ]
    },
    {
      "cell_type": "code",
      "execution_count": 22,
      "metadata": {
        "id": "KqYyQaqHkN5S",
        "colab": {
          "base_uri": "https://localhost:8080/"
        },
        "outputId": "65495cd9-82ea-46ba-ce89-2606310780ad"
      },
      "outputs": [
        {
          "output_type": "stream",
          "name": "stdout",
          "text": [
            "Epoch 1/3\n",
            "65/65 [==============================] - 99s 1s/step - loss: 0.7983 - accuracy: 0.4910 - val_loss: 0.9867 - val_accuracy: 0.5079\n",
            "Epoch 2/3\n",
            "65/65 [==============================] - 87s 1s/step - loss: 0.3422 - accuracy: 0.8389 - val_loss: 0.2569 - val_accuracy: 0.8973\n",
            "Epoch 3/3\n",
            "65/65 [==============================] - 84s 1s/step - loss: 0.1960 - accuracy: 0.9042 - val_loss: 0.1393 - val_accuracy: 0.9334\n"
          ]
        },
        {
          "output_type": "execute_result",
          "data": {
            "text/plain": [
              "<keras.callbacks.History at 0x7fc3a9f5aef0>"
            ]
          },
          "metadata": {},
          "execution_count": 22
        }
      ],
      "source": [
        "model.fit(x_train, y_train,\n",
        "          batch_size=batch_size,\n",
        "          epochs=epochs,\n",
        "          validation_data=(x_test, y_test),\n",
        "          shuffle=True)"
      ]
    },
    {
      "cell_type": "code",
      "execution_count": 23,
      "metadata": {
        "id": "n2a75QcYkSzL",
        "colab": {
          "base_uri": "https://localhost:8080/"
        },
        "outputId": "acb99066-6b5f-4809-bcfc-774052c8ef18"
      },
      "outputs": [
        {
          "output_type": "stream",
          "name": "stdout",
          "text": [
            "28/28 [==============================] - 9s 307ms/step\n",
            "Prediction:  [[9.9996680e-01 3.3109864e-05 2.5580473e-08 6.9474582e-09 4.9035389e-08]\n",
            " [9.9983573e-01 1.6397468e-04 8.2601915e-08 3.3453794e-08 1.8232755e-07]\n",
            " [1.9522235e-05 9.9998039e-01 2.5039470e-09 3.1930134e-10 2.6086142e-09]\n",
            " ...\n",
            " [9.9997044e-01 2.9604431e-05 2.2049933e-08 5.8964660e-09 4.3027075e-08]\n",
            " [5.2428037e-01 4.7492135e-01 2.3832651e-04 3.5790438e-04 2.0197469e-04]\n",
            " [1.9522235e-05 9.9998045e-01 2.5039473e-09 3.1930134e-10 2.6086140e-09]]\n"
          ]
        }
      ],
      "source": [
        "y_predicted = model.predict(x_test)\n",
        "print(\"Prediction: \", y_predicted)\n"
      ]
    },
    {
      "cell_type": "code",
      "execution_count": 24,
      "metadata": {
        "id": "Bkddzo797SuX"
      },
      "outputs": [],
      "source": [
        "y_pred_labels = np.argmax(y_predicted, axis=1)"
      ]
    },
    {
      "cell_type": "code",
      "execution_count": 25,
      "metadata": {
        "id": "DqjPqoTq8f3K",
        "colab": {
          "base_uri": "https://localhost:8080/",
          "height": 692
        },
        "outputId": "fc479f09-43f8-4584-cb36-e90c20d8eb85"
      },
      "outputs": [
        {
          "output_type": "stream",
          "name": "stdout",
          "text": [
            "Confusion matrix\n",
            "[[412  24]\n",
            " [ 35 415]]\n",
            "\n",
            "Classification report\n",
            "              precision    recall  f1-score   support\n",
            "\n",
            "        Mers       0.92      0.94      0.93       436\n",
            "        Sars       0.95      0.92      0.93       450\n",
            "\n",
            "    accuracy                           0.93       886\n",
            "   macro avg       0.93      0.93      0.93       886\n",
            "weighted avg       0.93      0.93      0.93       886\n",
            "\n"
          ]
        },
        {
          "output_type": "display_data",
          "data": {
            "text/plain": [
              "<Figure size 640x480 with 2 Axes>"
            ],
            "image/png": "[encoded data removed]"
          },
          "metadata": {}
        }
      ],
      "source": [
        "print(\"Confusion matrix\")\n",
        "confusion_matrix = metrics.confusion_matrix(y_true=y_test1, y_pred=y_pred_labels)\n",
        "print(confusion_matrix)\n",
        "target_names = ['Mers', 'Sars']\n",
        "disp = metrics.ConfusionMatrixDisplay(confusion_matrix=confusion_matrix, display_labels=target_names)\n",
        "disp.plot() \n",
        "\n",
        "print()\n",
        "print(\"Classification report\")\n",
        "report = metrics.classification_report(y_test1, y_pred_labels, target_names=target_names)\n",
        "print(report)\n"
      ]
    },
    {
      "cell_type": "code",
      "execution_count": null,
      "metadata": {
        "id": "c-NkdNk58k1Z"
      },
      "outputs": [],
      "source": []
    }
  ],
  "metadata": {
    "colab": {
      "provenance": [],
      "mount_file_id": "1T3Mlj2hF_so6KpXDWRPNqPS2oi9LYz61",
      "authorship_tag": "ABX9TyNRYnuYE9WrpD+pBNpnriT5",
      "include_colab_link": true
    },
    "kernelspec": {
      "display_name": "Python 3",
      "name": "python3"
    },
    "language_info": {
      "name": "python"
    }
  },
  "nbformat": 4,
  "nbformat_minor": 0
}